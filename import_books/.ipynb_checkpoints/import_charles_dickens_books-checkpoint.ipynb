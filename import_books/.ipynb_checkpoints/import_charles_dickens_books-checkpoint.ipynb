{
 "cells": [
  {
   "cell_type": "markdown",
   "metadata": {},
   "source": [
    "## 0. Installing and Importing Libraries"
   ]
  },
  {
   "cell_type": "code",
   "execution_count": 2,
   "metadata": {},
   "outputs": [],
   "source": [
    "# Install berkeley-db4 using Homebrew:\n",
    "!brew install berkeley-db4\n",
    "\n",
    "# Install Gutenberg using pip:\n",
    "!pip install gutenberg"
   ]
  },
  {
   "cell_type": "code",
   "execution_count": 5,
   "metadata": {},
   "outputs": [],
   "source": [
    "from gutenberg.acquire import load_etext\n",
    "from gutenberg.cleanup import strip_headers\n",
    "from gutenberg.query import get_etexts\n",
    "from gutenberg.query import get_metadata"
   ]
  },
  {
   "cell_type": "markdown",
   "metadata": {},
   "source": [
    "## 1. Importing Charles Dickens' Books:"
   ]
  },
  {
   "cell_type": "code",
   "execution_count": 7,
   "metadata": {},
   "outputs": [
    {
     "name": "stdout",
     "output_type": "stream",
     "text": [
      "Book #1:  Tom Tiddler's Ground\n",
      "Saved file: Tom_Tiddlers_Ground.txt\n",
      "\n",
      "Book #2:  Somebody's Luggage\n",
      "Saved file: Somebodys_Luggage.txt\n",
      "\n",
      "Book #3:  Doctor Marigold\n",
      "Saved file: Doctor_Marigold.txt\n",
      "\n",
      "Book #4:  Mrs. Lirriper's Lodgings\n",
      "Saved file: Mrs_Lirripers_Lodgings.txt\n",
      "\n",
      "Book #5:  Three Ghost Stories\n",
      "Saved file: Three_Ghost_Stories.txt\n",
      "\n",
      "Book #6:  Mugby Junction\n",
      "Saved file: Mugby_Junction.txt\n",
      "\n",
      "Book #7:  Mrs. Lirriper's Legacy\n",
      "Saved file: Mrs_Lirripers_Legacy.txt\n",
      "\n",
      "Book #8:  Going into Society\n",
      "Saved file: Going_into_Society.txt\n",
      "\n",
      "Book #9:  No Thoroughfare\n",
      "Saved file: No_Thoroughfare.txt\n",
      "\n",
      "Book #10: Miscellaneous Papers\n",
      "Saved file: Miscellaneous_Papers.txt\n",
      "\n",
      "Book #11: Bleak House\n",
      "Saved file: Bleak_House.txt\n",
      "\n",
      "Book #12: The Wreck of the Golden Mary\n",
      "Saved file: The_Wreck_of_the_Golden_Mary.txt\n",
      "\n",
      "Book #13: Some Christmas Stories\n",
      "Saved file: Some_Christmas_Stories.txt\n",
      "\n",
      "Book #14: Aventures de Monsieur Pickwick, Vol. II\n",
      "Saved file: Aventures_de_Monsieur_Pickwick,_Vol_II.txt\n",
      "\n",
      "Book #15: Aventures de Monsieur Pickwick, Vol. I\n",
      "Saved file: Aventures_de_Monsieur_Pickwick,_Vol_I.txt\n",
      "\n",
      "Book #16: The Seven Poor Travellers\n",
      "Saved file: The_Seven_Poor_Travellers.txt\n",
      "\n",
      "Book #17: The Holly-Tree\n",
      "Saved file: The_Holly-Tree.txt\n",
      "\n",
      "Book #18: Great Expectations\n",
      "Saved file: Great_Expectations.txt\n",
      "\n",
      "Book #19: The Perils of Certain English Prisoners\n",
      "Saved file: The_Perils_of_Certain_English_Prisoners.txt\n",
      "\n",
      "Book #20: A Message from the Sea\n",
      "Saved file: A_Message_from_the_Sea.txt\n",
      "\n"
     ]
    }
   ],
   "source": [
    "book_num = 1\n",
    "for text_id in get_etexts('author', 'Dickens, Charles'):\n",
    "        colon = \": \" if (book_num < 10) else \":\"\n",
    "        print(\"Book #\"+ str(book_num) + colon, list(get_metadata('title', text_id))[0])\n",
    "        \n",
    "        text = strip_headers(load_etext(text_id)).strip().replace(\"--\",\" \").replace(\"A-\",\"A \").replace(\"a-\",\"a \")\n",
    "        file_name = (list(get_metadata('title', text_id))[0].replace(\".\", \"\").replace(\"\\'\", \"\").replace(\" \", \"_\") + \".txt\")\n",
    "        \n",
    "        textfile = open('../input/charles_dickens/' + file_name, 'w')\n",
    "        textfile.write(text)\n",
    "        textfile.close()\n",
    "        \n",
    "        print(\"Saved file: \" + file_name)\n",
    "        print()\n",
    "        book_num += 1"
   ]
  }
 ],
 "metadata": {
  "kernelspec": {
   "display_name": "Python 3",
   "language": "python",
   "name": "python3"
  },
  "language_info": {
   "codemirror_mode": {
    "name": "ipython",
    "version": 3
   },
   "file_extension": ".py",
   "mimetype": "text/x-python",
   "name": "python",
   "nbconvert_exporter": "python",
   "pygments_lexer": "ipython3",
   "version": "3.8.3"
  }
 },
 "nbformat": 4,
 "nbformat_minor": 4
}
